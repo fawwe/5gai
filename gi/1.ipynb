{
 "cells": [
  {
   "cell_type": "code",
   "execution_count": null,
   "id": "75d54faf",
   "metadata": {},
   "outputs": [],
   "source": [
    "#1\n",
    "!pip install numpy==1.25.0\n",
    "!pip install gensim\n",
    "imprt gensim.downloader as api\n",
    "\n",
    "model= api.load(\"glove-wiki-gigaword-100\")\n",
    "\n",
    "def ewr()))\n",
    "    print(\"Exploring word relationships through arithmetic operations:\")\n",
    "\n",
    "    eq1 =model.most_similar(positive=[\"king\", \"woman\"],negative=[\"man\"], topn=1)\n",
    "    print(f\"king- man +woman = {eq1[0][0]}\")\n",
    "    eq2 = model.most_similar(positive=[\"ocean\",\"rain\"], negative=[\"water\"], topn=1)\n",
    "    print(f\"ocean -water+ rain = {eq2[0][0]}\")\n",
    "    eq3= model.most_similar(positive=[\"teacher\", \"knowledge\"], negative=[\"educator\"],topn=1)\n",
    "    print(f\"teacher- educator +knowledge = {eq3[0][0]}\")\n",
    "\n",
    "ewr()"
   ]
  }
 ],
 "metadata": {},
 "nbformat": 4,
 "nbformat_minor": 5
}
