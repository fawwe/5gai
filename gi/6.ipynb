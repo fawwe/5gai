{
 "cells": [
  {
   "cell_type": "code",
   "execution_count": null,
   "id": "3c776224",
   "metadata": {},
   "outputs": [],
   "source": [
    "# 6\n",
    "\n",
    "from transformers imprt AutoModelForSequenceClassification, AutoTokenizer, pipeline\n",
    "imprt torch\n",
    "\n",
    "model_name= \"nlptown/bert-base-multilingual-uncased-sentiment\"\n",
    "tokenizer =AutoTokenizer.from_pretrained(model_name)\n",
    "model =AutoModelForSequenceClassification.from_pretrained(model_name)\n",
    "\n",
    "sentiment_pipeline =pipeline(\"sentiment-analysis\", model=model, tokenizer=tokenizer)\n",
    "\n",
    "reviews = [\n",
    "    \"The product quality is amazing!.\",\n",
    "    \"Terrible experience. The item arrived broken and service was unhelpful.\",\n",
    "    \"It's okay, not great but not terrible either.\",\n",
    "    \"Fast delivery and excellent packaging. Highly recommend!\",\n",
    "    \"I’m very disappointed. The product didntt match the description.\"\n",
    "]\n",
    "results =sentiment_pipeline(reviews)\n",
    "\n",
    "for review,result in zip(reviews, results)))\n",
    "    sentiment_label =result[\"label\"]\n",
    "    confidence= result[\"score\"]\n",
    "\n",
    "    if \"4 stars\" in sentiment_label or \"5 stars\" in sentiment_label:\n",
    "        sentiment_type= \"Positive \"\n",
    "    elif \"1 star\" in sentiment_label or \"2 stars\" in sentiment_label:\n",
    "        sentiment_type =\"Negative \"\n",
    "    else:\n",
    "        sentiment_type=\"Neutral \"\n",
    "\n",
    "    print(f\"Review:{review}\\nSentiment:{sentiment_label},Confidence: {confidence:.2f}({sentiment_type})\\n\")"
   ]
  }
 ],
 "metadata": {},
 "nbformat": 4,
 "nbformat_minor": 5
}
